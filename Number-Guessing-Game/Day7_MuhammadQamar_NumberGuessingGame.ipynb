{
  "nbformat": 4,
  "nbformat_minor": 0,
  "metadata": {
    "colab": {
      "provenance": []
    },
    "kernelspec": {
      "name": "python3",
      "display_name": "Python 3"
    },
    "language_info": {
      "name": "python"
    }
  },
  "cells": [
    {
      "cell_type": "code",
      "execution_count": 8,
      "metadata": {
        "id": "q1ay_yoceQ4u"
      },
      "outputs": [],
      "source": [
        "# Day 7 - Number Guessing Game by Muhammad Qamar"
      ]
    },
    {
      "cell_type": "code",
      "source": [
        "import random"
      ],
      "metadata": {
        "id": "ylozrQt9eY8z"
      },
      "execution_count": 9,
      "outputs": []
    },
    {
      "cell_type": "code",
      "source": [
        "print(\"Welcome! To the Number Guessing Game\")"
      ],
      "metadata": {
        "colab": {
          "base_uri": "https://localhost:8080/"
        },
        "id": "kD2urdEFeaqG",
        "outputId": "29409825-932a-4ce0-fea2-d5c716d9ffc8"
      },
      "execution_count": 10,
      "outputs": [
        {
          "output_type": "stream",
          "name": "stdout",
          "text": [
            "Welcome! To the Number Guessing Game\n"
          ]
        }
      ]
    },
    {
      "cell_type": "code",
      "source": [
        "#1. Generate a number between 1 to 100\n",
        "secret_number = random.randint(1,100)"
      ],
      "metadata": {
        "id": "XNFT7R0YejU8"
      },
      "execution_count": 11,
      "outputs": []
    },
    {
      "cell_type": "code",
      "source": [
        "#2. Attempts Counter\n",
        "attempts = 0"
      ],
      "metadata": {
        "id": "KwPMs4cZew0c"
      },
      "execution_count": 12,
      "outputs": []
    },
    {
      "cell_type": "code",
      "source": [
        "while True:\n",
        "  guess = int(input(\"Guess a number between 1 to 100 : \"))\n",
        "  attempts += 1\n",
        "\n",
        "  if guess == secret_number:\n",
        "    print(f\"Congratulation you guessed it in {attempts} attempts\")\n",
        "    break\n",
        "  elif guess < secret_number:\n",
        "    print(\"Too Low, Try a high number\")\n",
        "  else:\n",
        "    print(\"Too high, Try a low number\")\n"
      ],
      "metadata": {
        "colab": {
          "base_uri": "https://localhost:8080/"
        },
        "id": "rKxok_oUe4o2",
        "outputId": "8192897a-ca5c-474a-e0eb-06f8c617ab0d"
      },
      "execution_count": 13,
      "outputs": [
        {
          "output_type": "stream",
          "name": "stdout",
          "text": [
            "Guess a number between 1 to 10093\n",
            "Too high, Try a low number\n",
            "Guess a number between 1 to 10087\n",
            "Too high, Try a low number\n",
            "Guess a number between 1 to 10072\n",
            "Too high, Try a low number\n",
            "Guess a number between 1 to 10064\n",
            "Too high, Try a low number\n",
            "Guess a number between 1 to 10034\n",
            "Too high, Try a low number\n",
            "Guess a number between 1 to 10024\n",
            "Too Low, Try a high number\n",
            "Guess a number between 1 to 10029\n",
            "Too Low, Try a high number\n",
            "Guess a number between 1 to 10031\n",
            "Too high, Try a low number\n",
            "Guess a number between 1 to 10030\n",
            "Congratulation you guessed it in 9 attempts\n"
          ]
        }
      ]
    },
    {
      "cell_type": "code",
      "source": [],
      "metadata": {
        "id": "o5gyG2nHflII"
      },
      "execution_count": 13,
      "outputs": []
    }
  ]
}
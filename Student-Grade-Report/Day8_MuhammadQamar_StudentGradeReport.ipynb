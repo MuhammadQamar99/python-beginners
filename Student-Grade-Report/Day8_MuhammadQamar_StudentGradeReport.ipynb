{
  "nbformat": 4,
  "nbformat_minor": 0,
  "metadata": {
    "colab": {
      "provenance": []
    },
    "kernelspec": {
      "name": "python3",
      "display_name": "Python 3"
    },
    "language_info": {
      "name": "python"
    }
  },
  "cells": [
    {
      "cell_type": "code",
      "execution_count": 6,
      "metadata": {
        "id": "QXPAAA8zqEim"
      },
      "outputs": [],
      "source": [
        "# Day 8 - Student Grade Report Generator by Muhammad Qamar"
      ]
    },
    {
      "cell_type": "code",
      "source": [
        "# Step 1: Take input\n",
        "name = input(\"Enter student's name: \")\n",
        "english = float(input(\"Enter English marks (out of 100): \"))\n",
        "math = float(input(\"Enter Math marks (out of 100): \"))\n",
        "science = float(input(\"Enter Science marks (out of 100): \"))"
      ],
      "metadata": {
        "colab": {
          "base_uri": "https://localhost:8080/"
        },
        "id": "XTqKuG4kqLPD",
        "outputId": "ee7f87c1-900e-44f7-d448-6e976a714c7e"
      },
      "execution_count": 7,
      "outputs": [
        {
          "name": "stdout",
          "output_type": "stream",
          "text": [
            "Enter student's name: Muhammad Qamar\n",
            "Enter English marks (out of 100): 92\n",
            "Enter Math marks (out of 100): 97\n",
            "Enter Science marks (out of 100): 100\n"
          ]
        }
      ]
    },
    {
      "cell_type": "code",
      "source": [
        "# Step 2: Calculate total and percentage\n",
        "total = english + math + science\n",
        "percentage = (total / 300) * 100"
      ],
      "metadata": {
        "id": "z4QDy2QRqREv"
      },
      "execution_count": 8,
      "outputs": []
    },
    {
      "cell_type": "code",
      "source": [
        "# Step 3: Determine grade\n",
        "if percentage >= 80:\n",
        "    grade = \"A+\"\n",
        "elif percentage >= 70:\n",
        "    grade = \"A\"\n",
        "elif percentage >= 60:\n",
        "    grade = \"B\"\n",
        "elif percentage >= 50:\n",
        "    grade = \"C\"\n",
        "else:\n",
        "    grade = \"F\""
      ],
      "metadata": {
        "id": "EKZ8l0Jzqd2d"
      },
      "execution_count": 9,
      "outputs": []
    },
    {
      "cell_type": "code",
      "source": [
        "# Step 4: Print report\n",
        "print(\"\\n----- Student Report Card -----\")\n",
        "print(f\"Name: {name}\")\n",
        "print(f\"English: {english}\")\n",
        "print(f\"Math: {math}\")\n",
        "print(f\"Science: {science}\")\n",
        "print(f\"Total Marks: {total}/300\")\n",
        "print(f\"Percentage: {round(percentage, 2)}%\")\n",
        "print(f\"Grade: {grade}\")\n",
        "print(\"------------------------------\")"
      ],
      "metadata": {
        "colab": {
          "base_uri": "https://localhost:8080/"
        },
        "id": "p1v0WNZvqk6Q",
        "outputId": "1a7664d7-edb5-4f8d-9d40-fb07c3f3b338"
      },
      "execution_count": 10,
      "outputs": [
        {
          "output_type": "stream",
          "name": "stdout",
          "text": [
            "\n",
            "----- Student Report Card -----\n",
            "Name: Muhammad Qamar\n",
            "English: 92.0\n",
            "Math: 97.0\n",
            "Science: 100.0\n",
            "Total Marks: 289.0/300\n",
            "Percentage: 96.33%\n",
            "Grade: A+\n",
            "------------------------------\n"
          ]
        }
      ]
    },
    {
      "cell_type": "code",
      "source": [],
      "metadata": {
        "id": "jyQhCd54qvv9"
      },
      "execution_count": 10,
      "outputs": []
    }
  ]
}
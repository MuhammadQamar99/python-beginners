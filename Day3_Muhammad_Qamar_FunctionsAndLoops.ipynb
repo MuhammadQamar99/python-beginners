{
  "nbformat": 4,
  "nbformat_minor": 0,
  "metadata": {
    "colab": {
      "provenance": []
    },
    "kernelspec": {
      "name": "python3",
      "display_name": "Python 3"
    },
    "language_info": {
      "name": "python"
    }
  },
  "cells": [
    {
      "cell_type": "code",
      "execution_count": 1,
      "metadata": {
        "id": "ij61_Yv2BSzj"
      },
      "outputs": [],
      "source": [
        "# Day 3 - Functions and Loops by Muhammad Qamar"
      ]
    },
    {
      "cell_type": "code",
      "source": [
        "#1 Simple function to add two numbers\n",
        "def add_numbers(a, b):\n",
        "  return a + b\n",
        "\n",
        "print(f\"Sum : {add_numbers(21,22)} \")"
      ],
      "metadata": {
        "colab": {
          "base_uri": "https://localhost:8080/"
        },
        "id": "nrZmVJzJBgwe",
        "outputId": "1c40a806-79d5-47e5-a786-00f1980f94e0"
      },
      "execution_count": 3,
      "outputs": [
        {
          "output_type": "stream",
          "name": "stdout",
          "text": [
            "Sum : 43 \n"
          ]
        }
      ]
    },
    {
      "cell_type": "code",
      "source": [
        "#2. Factorial of a number using loop\n",
        "def factorial(n):\n",
        "  result = 1\n",
        "  for i in range(1,n+1):\n",
        "    result *= i\n",
        "  return result\n",
        "\n",
        "print(f\"Factorial is : {factorial(5)}\")"
      ],
      "metadata": {
        "colab": {
          "base_uri": "https://localhost:8080/"
        },
        "id": "xdUCUZ7fBrq7",
        "outputId": "299a876f-8765-47be-dbd2-1c7b1befea78"
      },
      "execution_count": 6,
      "outputs": [
        {
          "output_type": "stream",
          "name": "stdout",
          "text": [
            "Factorial is : 120\n"
          ]
        }
      ]
    },
    {
      "cell_type": "code",
      "source": [
        "#3. Check if a number is Prime\n",
        "def is_prime(n):\n",
        "  if n < 2:\n",
        "    return False\n",
        "  for i in range(2,int(n**0.5)+1):\n",
        "    if n % i == 0:\n",
        "      return False\n",
        "  return True\n",
        "\n",
        "print(f\"Is Prime? {is_prime(7)}\")"
      ],
      "metadata": {
        "colab": {
          "base_uri": "https://localhost:8080/"
        },
        "id": "0jpiV3UTB8Ne",
        "outputId": "2f2fefb4-b9d8-49fe-c64c-65ecd3b52827"
      },
      "execution_count": 17,
      "outputs": [
        {
          "output_type": "stream",
          "name": "stdout",
          "text": [
            "Is Prime? True\n"
          ]
        }
      ]
    },
    {
      "cell_type": "code",
      "source": [
        "#4. Count Even and Odd numbers in a list\n",
        "numbers = [1,2,3,4,5,6,7,8,9,10]\n",
        "even = 0\n",
        "odd = 0\n",
        "\n",
        "for num in numbers:\n",
        "  if num % 2 == 0:\n",
        "    even += 1\n",
        "  else:\n",
        "    odd += 1\n",
        "\n",
        "print(f\"Even numbers : {even}\")\n",
        "print(f\"Odd numbers : {odd}\")"
      ],
      "metadata": {
        "colab": {
          "base_uri": "https://localhost:8080/"
        },
        "id": "iL3-4L2cC54R",
        "outputId": "030189d0-9865-4da6-8850-366d6f028b41"
      },
      "execution_count": 18,
      "outputs": [
        {
          "output_type": "stream",
          "name": "stdout",
          "text": [
            "Even numbers : 5\n",
            "Odd numbers : 5\n"
          ]
        }
      ]
    },
    {
      "cell_type": "code",
      "source": [
        "#5. Create a multiplication table\n",
        "def multiplication(n):\n",
        "  for i in range(1,11):\n",
        "    print(f\"{n} x {i} = {n*i}\")\n",
        "\n",
        "multiplication(2)"
      ],
      "metadata": {
        "colab": {
          "base_uri": "https://localhost:8080/"
        },
        "id": "tlivMrRYFub2",
        "outputId": "b0cb6a14-7d54-4a01-d216-853978540a0b"
      },
      "execution_count": 19,
      "outputs": [
        {
          "output_type": "stream",
          "name": "stdout",
          "text": [
            "2 x 1 = 2\n",
            "2 x 2 = 4\n",
            "2 x 3 = 6\n",
            "2 x 4 = 8\n",
            "2 x 5 = 10\n",
            "2 x 6 = 12\n",
            "2 x 7 = 14\n",
            "2 x 8 = 16\n",
            "2 x 9 = 18\n",
            "2 x 10 = 20\n"
          ]
        }
      ]
    },
    {
      "cell_type": "code",
      "source": [],
      "metadata": {
        "id": "mZ9HTmB5GPmf"
      },
      "execution_count": null,
      "outputs": []
    }
  ]
}
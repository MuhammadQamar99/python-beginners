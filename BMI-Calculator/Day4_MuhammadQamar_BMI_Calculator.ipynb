{
  "nbformat": 4,
  "nbformat_minor": 0,
  "metadata": {
    "colab": {
      "provenance": []
    },
    "kernelspec": {
      "name": "python3",
      "display_name": "Python 3"
    },
    "language_info": {
      "name": "python"
    }
  },
  "cells": [
    {
      "cell_type": "code",
      "execution_count": 1,
      "metadata": {
        "id": "lZqTZQL3ZI25"
      },
      "outputs": [],
      "source": [
        "# Day 4 - BMI Calculator by Muhammad Qamar"
      ]
    },
    {
      "cell_type": "code",
      "source": [
        "#1. BMI function\n",
        "def calculate_bmi(weight,height):\n",
        "  bmi = weight / ( height ** 2 )\n",
        "  return bmi\n"
      ],
      "metadata": {
        "id": "Ur-HuEwEZPnb"
      },
      "execution_count": 2,
      "outputs": []
    },
    {
      "cell_type": "code",
      "source": [
        "#2. Take inputs from user\n",
        "weight = float(input(\"Enter your weight in kg : \"))\n",
        "height = float(input(\"Enter your height in meters : \"))"
      ],
      "metadata": {
        "colab": {
          "base_uri": "https://localhost:8080/"
        },
        "id": "fQGkHurVZmu-",
        "outputId": "0df1b6a1-055b-45a6-8ca5-16b85ffb0983"
      },
      "execution_count": 3,
      "outputs": [
        {
          "name": "stdout",
          "output_type": "stream",
          "text": [
            "Enter your weight in kg : 23\n",
            "Enter your height in meters : 23\n"
          ]
        }
      ]
    },
    {
      "cell_type": "code",
      "source": [
        "bmi = calculate_bmi(weight,height)"
      ],
      "metadata": {
        "id": "0k8ZCBlsaHxF"
      },
      "execution_count": 4,
      "outputs": []
    },
    {
      "cell_type": "code",
      "source": [
        "#4. Display Result\n",
        "print(f\"Your BMI is {round(bmi,2)}\")"
      ],
      "metadata": {
        "colab": {
          "base_uri": "https://localhost:8080/"
        },
        "id": "9HuOtie4aVLs",
        "outputId": "286c952e-3760-4fae-ead3-fef72b2b515c"
      },
      "execution_count": 5,
      "outputs": [
        {
          "output_type": "stream",
          "name": "stdout",
          "text": [
            "Your BMI is 0.04\n"
          ]
        }
      ]
    },
    {
      "cell_type": "code",
      "source": [
        "# 5. Decision making\n",
        "if bmi < 18.5:\n",
        "    print(\"You are underweight.\")\n",
        "elif bmi >= 18.5 and bmi < 25:\n",
        "    print(\"You have a normal weight.\")\n",
        "elif bmi >= 25 and bmi < 30:\n",
        "    print(\"You are overweight.\")\n",
        "else:\n",
        "    print(\"You are obese.\")"
      ],
      "metadata": {
        "colab": {
          "base_uri": "https://localhost:8080/"
        },
        "id": "cJo-zVfgbbDg",
        "outputId": "2749eb12-7127-4e21-dd4a-7c35b6864393"
      },
      "execution_count": 6,
      "outputs": [
        {
          "output_type": "stream",
          "name": "stdout",
          "text": [
            "You are underweight.\n"
          ]
        }
      ]
    },
    {
      "cell_type": "code",
      "source": [],
      "metadata": {
        "id": "64YPJvP6bmP3"
      },
      "execution_count": null,
      "outputs": []
    }
  ]
}
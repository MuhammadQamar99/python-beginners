{
  "nbformat": 4,
  "nbformat_minor": 0,
  "metadata": {
    "colab": {
      "provenance": []
    },
    "kernelspec": {
      "name": "python3",
      "display_name": "Python 3"
    },
    "language_info": {
      "name": "python"
    }
  },
  "cells": [
    {
      "cell_type": "code",
      "execution_count": 1,
      "metadata": {
        "id": "_VQPziK6wnCD"
      },
      "outputs": [],
      "source": [
        "# Day 1 - Python Basics by Muhammad Qamar"
      ]
    },
    {
      "cell_type": "code",
      "source": [
        "#1. Print a welcome message\n",
        "print(\"Hello Muhammad Qamar! Welcome to ML Engineer journey\")"
      ],
      "metadata": {
        "colab": {
          "base_uri": "https://localhost:8080/"
        },
        "id": "EwL3YUvTw0i6",
        "outputId": "5c0ab364-9eb7-4cd0-ebcc-77492e9d6fe9"
      },
      "execution_count": 2,
      "outputs": [
        {
          "output_type": "stream",
          "name": "stdout",
          "text": [
            "Hello Muhammad Qamar! Welcome to ML Engineer journey\n"
          ]
        }
      ]
    },
    {
      "cell_type": "code",
      "source": [
        "#2. Variables and Printing\n",
        "name = \"Muhammad Qamar\"\n",
        "age = 17\n",
        "print(name)\n",
        "print(age)\n"
      ],
      "metadata": {
        "colab": {
          "base_uri": "https://localhost:8080/"
        },
        "id": "LWywOGSexHip",
        "outputId": "d4d1e669-b108-4767-e519-e230d3c85041"
      },
      "execution_count": 4,
      "outputs": [
        {
          "output_type": "stream",
          "name": "stdout",
          "text": [
            "Muhammad Qamar\n",
            "17\n"
          ]
        }
      ]
    },
    {
      "cell_type": "code",
      "source": [
        "#3. Simple Maths Operations\n",
        "num1 = 10\n",
        "num2 = 3\n",
        "\n",
        "print(f\"Sum is {num1 + num2}\")\n",
        "print(f\"Differnce is {num1 - num2}\")\n",
        "print(f\"Product is {num1 * num2}\")\n",
        "print(f\"Divion is {num1 / num2}\")"
      ],
      "metadata": {
        "colab": {
          "base_uri": "https://localhost:8080/"
        },
        "id": "b5-oUNvbxOqQ",
        "outputId": "cb7469f3-fdc0-42c4-d76d-19ad492fbf1e"
      },
      "execution_count": 5,
      "outputs": [
        {
          "output_type": "stream",
          "name": "stdout",
          "text": [
            "Sum is 13\n",
            "Differnce is 7\n",
            "Product is 30\n",
            "Divion is 3.3333333333333335\n"
          ]
        }
      ]
    },
    {
      "cell_type": "code",
      "source": [
        "#4. List and Loop\n",
        "colors = [\"Red\",\"Green\",\"Blue\"]\n",
        "for color in colors:\n",
        "  print(f\"Color : {color}\")"
      ],
      "metadata": {
        "colab": {
          "base_uri": "https://localhost:8080/"
        },
        "id": "WI_--n5s5WQp",
        "outputId": "26bba40b-2132-4791-9d6b-acef8c45d7e0"
      },
      "execution_count": 7,
      "outputs": [
        {
          "output_type": "stream",
          "name": "stdout",
          "text": [
            "Color : Red\n",
            "Color : Green\n",
            "Color : Blue\n"
          ]
        }
      ]
    },
    {
      "cell_type": "code",
      "source": [
        "#5. If-Else conditions\n",
        "marks = 87\n",
        "if marks >= 80:\n",
        "  print(\"Grade A\")\n",
        "elif marks >= 70:\n",
        "  print(\"Grade B\")\n",
        "else:\n",
        "  print(\"Grade C or Below\")\n"
      ],
      "metadata": {
        "colab": {
          "base_uri": "https://localhost:8080/"
        },
        "id": "1LnSKtSj5lQ7",
        "outputId": "ee7f15da-5a4a-468b-fce7-fc93ab599fb8"
      },
      "execution_count": 8,
      "outputs": [
        {
          "output_type": "stream",
          "name": "stdout",
          "text": [
            "Grade A\n"
          ]
        }
      ]
    },
    {
      "cell_type": "code",
      "source": [
        "#6. Call a function\n",
        "def greet(name):\n",
        "  return f\"Welcome, {name}!\"\n",
        "\n",
        "print(greet(\"Muhammad\"))"
      ],
      "metadata": {
        "colab": {
          "base_uri": "https://localhost:8080/"
        },
        "id": "NukPwTlJ6Qka",
        "outputId": "7a01e7f5-1980-4309-e80d-bec50cc2f421"
      },
      "execution_count": 12,
      "outputs": [
        {
          "output_type": "stream",
          "name": "stdout",
          "text": [
            "Welcome, Muhammad!\n"
          ]
        }
      ]
    },
    {
      "cell_type": "code",
      "source": [],
      "metadata": {
        "id": "MljcJsTQ6lQc"
      },
      "execution_count": null,
      "outputs": []
    }
  ]
}
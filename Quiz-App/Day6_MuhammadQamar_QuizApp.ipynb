{
  "nbformat": 4,
  "nbformat_minor": 0,
  "metadata": {
    "colab": {
      "provenance": []
    },
    "kernelspec": {
      "name": "python3",
      "display_name": "Python 3"
    },
    "language_info": {
      "name": "python"
    }
  },
  "cells": [
    {
      "cell_type": "code",
      "execution_count": 1,
      "metadata": {
        "id": "0KHWiRf6eh93"
      },
      "outputs": [],
      "source": [
        "# Day 6 - Quiz App by Muhammad Qamar"
      ]
    },
    {
      "cell_type": "code",
      "source": [
        "questions = [\n",
        "    {\n",
        "        \"question\": \"What is the capital of Pakistan?\",\n",
        "        \"options\": [\"1. Lahore\", \"2. Karachi\", \"3. Islamabad\", \"4. Peshawar\"],\n",
        "        \"answer\": \"3\"\n",
        "    },\n",
        "    {\n",
        "        \"question\": \"Which programming language is this project in?\",\n",
        "        \"options\": [\"1. Java\", \"2. Python\", \"3. C++\", \"4. HTML\"],\n",
        "        \"answer\": \"2\"\n",
        "    },\n",
        "    {\n",
        "        \"question\": \"What does CPU stand for?\",\n",
        "        \"options\": [\"1. Central Processing Unit\", \"2. Computer Personal Unit\", \"3. Control Process Unit\", \"4. Central Program Unit\"],\n",
        "        \"answer\": \"1\"\n",
        "    }\n",
        "]"
      ],
      "metadata": {
        "id": "MX5Prc23esH-"
      },
      "execution_count": 2,
      "outputs": []
    },
    {
      "cell_type": "code",
      "source": [
        "score = 0"
      ],
      "metadata": {
        "id": "1Q4shiMhfoy6"
      },
      "execution_count": 11,
      "outputs": []
    },
    {
      "cell_type": "code",
      "source": [
        "for q in questions:\n",
        "  print(f\"\\n {q['question']}\")\n",
        "  for option in q['options']:\n",
        "    print(option)\n",
        "  ans = input('Your Answer ( Enter the option \"number\")')\n",
        "  if ans == q['answer']:\n",
        "    print(\"✅ Correct!\")\n",
        "    score += 1\n",
        "  else:\n",
        "    print(\"❌ Wrong!\")\n",
        "\n",
        "print(f\"\\nYour final score is: {score}/{len(questions)}\")\n"
      ],
      "metadata": {
        "colab": {
          "base_uri": "https://localhost:8080/"
        },
        "id": "2G0VltONfzau",
        "outputId": "1ef509cc-f3b5-4a29-a00a-d059816fe349"
      },
      "execution_count": 10,
      "outputs": [
        {
          "output_type": "stream",
          "name": "stdout",
          "text": [
            "\n",
            " What is the capital of Pakistan?\n",
            "1. Lahore\n",
            "2. Karachi\n",
            "3. Islamabad\n",
            "4. Peshawar\n",
            "Your Answer ( Enter the option \"number\")1\n",
            "❌ Wrong!\n",
            "\n",
            " Which programming language is this project in?\n",
            "1. Java\n",
            "2. Python\n",
            "3. C++\n",
            "4. HTML\n",
            "Your Answer ( Enter the option \"number\")2\n",
            "✅ Correct!\n",
            "\n",
            " What does CPU stand for?\n",
            "1. Central Processing Unit\n",
            "2. Computer Personal Unit\n",
            "3. Control Process Unit\n",
            "4. Central Program Unit\n",
            "Your Answer ( Enter the option \"number\")1\n",
            "✅ Correct!\n",
            "\n",
            "Your final score is: 2/3\n"
          ]
        }
      ]
    },
    {
      "cell_type": "code",
      "source": [],
      "metadata": {
        "id": "Z0Q2RyIIgDCG"
      },
      "execution_count": null,
      "outputs": []
    }
  ]
}
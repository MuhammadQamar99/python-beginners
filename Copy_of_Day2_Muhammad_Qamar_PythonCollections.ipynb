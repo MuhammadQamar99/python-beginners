{
  "nbformat": 4,
  "nbformat_minor": 0,
  "metadata": {
    "colab": {
      "provenance": []
    },
    "kernelspec": {
      "name": "python3",
      "display_name": "Python 3"
    },
    "language_info": {
      "name": "python"
    }
  },
  "cells": [
    {
      "cell_type": "code",
      "execution_count": null,
      "metadata": {
        "id": "pWG60Zo986D3"
      },
      "outputs": [],
      "source": [
        "# Day 2 - List, Tuple, Dictionaries by Muhammad Qamar"
      ]
    },
    {
      "cell_type": "code",
      "source": [
        "#1. Python List\n",
        "fruits = [\"Apple\",\"Banana\",\"Mango\"]\n",
        "print(f\"Fruits List : {fruits}\")\n",
        "\n",
        "fruits.append(\"Grapes\")   # add item\n",
        "print(f\"Updated Fruits: {fruits}\")\n",
        "\n",
        "fruits.remove(\"Banana\")   # remove item\n",
        "print(f\"After Removal : {fruits}\")"
      ],
      "metadata": {
        "colab": {
          "base_uri": "https://localhost:8080/"
        },
        "id": "3fS851m29GAX",
        "outputId": "3ce02075-935e-40a8-ad00-91eeffdbccca"
      },
      "execution_count": null,
      "outputs": [
        {
          "output_type": "stream",
          "name": "stdout",
          "text": [
            "Fruits List : ['Apple', 'Banana', 'Mango']\n",
            "Updated Fruits: ['Apple', 'Banana', 'Mango', 'Grapes']\n",
            "After Removal : ['Apple', 'Mango', 'Grapes']\n"
          ]
        }
      ]
    },
    {
      "cell_type": "code",
      "source": [
        "#2. Looping through list\n",
        "for fruit in fruits:\n",
        "  print(f\"I like, {fruit}\")"
      ],
      "metadata": {
        "colab": {
          "base_uri": "https://localhost:8080/"
        },
        "id": "sK04jrhm9xlA",
        "outputId": "5e2894c8-aa50-4cb7-9768-aafb7fedd2b0"
      },
      "execution_count": null,
      "outputs": [
        {
          "output_type": "stream",
          "name": "stdout",
          "text": [
            "I like, Apple\n",
            "I like, Mango\n",
            "I like, Grapes\n"
          ]
        }
      ]
    },
    {
      "cell_type": "code",
      "source": [
        "#3. Tuples ( Immutable list )\n",
        "color = (\"Red\",\"Green\",\"Blue\")\n",
        "print(f\"Colors Tuple : {color}\")\n",
        "print(f\"First Color: {color[0]}\")"
      ],
      "metadata": {
        "colab": {
          "base_uri": "https://localhost:8080/"
        },
        "id": "36KCaEaN-GGE",
        "outputId": "88fa4015-56cd-4d76-c781-16214771f896"
      },
      "execution_count": null,
      "outputs": [
        {
          "output_type": "stream",
          "name": "stdout",
          "text": [
            "Colors Tuple : ('Red', 'Green', 'Blue')\n",
            "First Color: Red\n"
          ]
        }
      ]
    },
    {
      "cell_type": "code",
      "source": [
        "#4. Dictionaires ( Key-value Pairs)\n",
        "student = {\n",
        "    \"name\" : \"Muhammad Qamar\",\n",
        "    \"age\" : \"17\",\n",
        "    \"grade\" : \"A\"\n",
        "}\n",
        "\n",
        "print(f\"Student Dictionay : {student}\")\n",
        "print(f\"Student name : {student['name']}\")"
      ],
      "metadata": {
        "colab": {
          "base_uri": "https://localhost:8080/"
        },
        "id": "d__LKC4H-z_O",
        "outputId": "fe25eb50-0d50-4d89-df6c-e06d6ca235b7"
      },
      "execution_count": null,
      "outputs": [
        {
          "output_type": "stream",
          "name": "stdout",
          "text": [
            "Student Dictionay : {'name': 'Muhammad Qamar', 'age': '17', 'grade': 'A'}\n",
            "Student name : Muhammad Qamar\n"
          ]
        }
      ]
    },
    {
      "cell_type": "code",
      "source": [
        "#5. Add new Key\n",
        "student[\"School\"] = \"Astron College\"\n",
        "print(f\"Updated Dictionary : {student}\")"
      ],
      "metadata": {
        "colab": {
          "base_uri": "https://localhost:8080/"
        },
        "id": "3U1sEqiG_gL-",
        "outputId": "0276a09b-bcca-46ca-837d-a7bdf8335d2f"
      },
      "execution_count": null,
      "outputs": [
        {
          "output_type": "stream",
          "name": "stdout",
          "text": [
            "Updated Dictionary : {'name': 'Muhammad Qamar', 'age': '17', 'grade': 'A', 'School': 'Astron College'}\n"
          ]
        }
      ]
    },
    {
      "cell_type": "code",
      "source": [
        "#6. Loop through Dictionary\n",
        "for key, value in student.items():\n",
        "  print(f\"{key} -> {value}\")\n"
      ],
      "metadata": {
        "colab": {
          "base_uri": "https://localhost:8080/"
        },
        "id": "_HRrPLVOAFND",
        "outputId": "6f2eed7e-a203-4199-874e-47993dc236c7"
      },
      "execution_count": null,
      "outputs": [
        {
          "output_type": "stream",
          "name": "stdout",
          "text": [
            "name -> Muhammad Qamar\n",
            "age -> 17\n",
            "grade -> A\n",
            "School -> Astron College\n"
          ]
        }
      ]
    },
    {
      "cell_type": "code",
      "source": [],
      "metadata": {
        "id": "2-TnDcflAaoV"
      },
      "execution_count": null,
      "outputs": []
    }
  ]
}